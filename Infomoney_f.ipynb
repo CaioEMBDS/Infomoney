{
  "nbformat": 4,
  "nbformat_minor": 0,
  "metadata": {
    "colab": {
      "provenance": []
    },
    "kernelspec": {
      "name": "python3",
      "display_name": "Python 3"
    },
    "language_info": {
      "name": "python"
    }
  },
  "cells": [
    {
      "cell_type": "code",
      "execution_count": 1,
      "metadata": {
        "id": "kjtDQ116gbeo"
      },
      "outputs": [],
      "source": [
        "import requests\n",
        "from bs4 import BeautifulSoup\n",
        "import pandas as pd"
      ]
    },
    {
      "cell_type": "markdown",
      "source": [
        "## Criando uma Lista de Notícias"
      ],
      "metadata": {
        "id": "J3dtWRrPgg4r"
      }
    },
    {
      "cell_type": "code",
      "source": [
        "def noticias_infomoney():\n",
        "  url = 'https://www.infomoney.com.br//'\n",
        "  response = requests.get(url)\n",
        "\n",
        "  html = BeautifulSoup(response.text, \"html.parser\")\n",
        "\n",
        "  span = html.find_all(attrs={'class': ['hl-title']})\n",
        "\n",
        "  titulos = []\n",
        "  links = []\n",
        "  for s in span:\n",
        "      # Em cada span, extraimos a tag 'a'\n",
        "      a_tag = s.find('a')\n",
        "      # Com o método '.get()', conseguimos extrair o link e o titulo em a_tag\n",
        "      links.append(a_tag.get('href').strip())\n",
        "      titulos.append(a_tag.get('title').strip())\n",
        "\n",
        "  df = pd.DataFrame({'Titulo': titulos, 'Link': links})\n",
        "\n",
        "  pd.options.display.max_rows\n",
        "  pd.set_option('display.max_colwidth', -1)\n",
        "\n",
        "  return df"
      ],
      "metadata": {
        "id": "auZG08TvgcR8"
      },
      "execution_count": 2,
      "outputs": []
    },
    {
      "cell_type": "markdown",
      "source": [
        "##Cambio"
      ],
      "metadata": {
        "id": "acMlR10igq1L"
      }
    },
    {
      "cell_type": "code",
      "source": [
        "def cambio():\n",
        "  url = 'https://www.infomoney.com.br/ferramentas/cambio/'\n",
        "  response = requests.get(url)\n",
        "\n",
        "  html = BeautifulSoup(response.text, \"html.parser\")\n",
        "\n",
        "  table_div = html.findAll(attrs = {'id': 'container_table'})\n",
        "  table = table_div[0].findAll('table')\n",
        "\n",
        "  df = pd.read_html(str(table[0]).replace(',', '.'))[0]\n",
        "\n",
        "  df = df.drop(df.columns[1], axis=1)\n",
        "\n",
        "  return df"
      ],
      "metadata": {
        "id": "ULeCSmbIgcVD"
      },
      "execution_count": null,
      "outputs": []
    },
    {
      "cell_type": "code",
      "source": [],
      "metadata": {
        "id": "4iVtb-TWgcXj"
      },
      "execution_count": null,
      "outputs": []
    },
    {
      "cell_type": "code",
      "source": [],
      "metadata": {
        "id": "4Rm4SS6GgcaE"
      },
      "execution_count": null,
      "outputs": []
    },
    {
      "cell_type": "code",
      "source": [],
      "metadata": {
        "id": "7kkpYlGygccV"
      },
      "execution_count": null,
      "outputs": []
    }
  ]
}